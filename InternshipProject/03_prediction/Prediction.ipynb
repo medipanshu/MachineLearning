{
 "cells": [
  {
   "cell_type": "code",
   "execution_count": 1,
   "id": "fda77162-afc2-472a-999b-d2ba871bca55",
   "metadata": {
    "tags": []
   },
   "outputs": [],
   "source": [
    "import pandas as pd\n",
    "import numpy as np\n",
    "import matplotlib.pyplot as plt\n",
    "import seaborn as sns\n",
    "%matplotlib inline\n",
    "pd.set_option('display.max_columns',None)\n",
    "from sklearn.preprocessing import StandardScaler\n",
    "import joblib"
   ]
  },
  {
   "cell_type": "code",
   "execution_count": 3,
   "id": "85857d9a-5e1e-40ab-9b65-7db8e11d14df",
   "metadata": {
    "tags": []
   },
   "outputs": [],
   "source": [
    "df = pd.read_csv('Predict_Data_Singapore Credit Dataset.csv')"
   ]
  },
  {
   "cell_type": "code",
   "execution_count": 4,
   "id": "cbeffce5-0193-452c-8ed3-1506eb7cd41b",
   "metadata": {
    "tags": []
   },
   "outputs": [
    {
     "data": {
      "text/html": [
       "<div>\n",
       "<style scoped>\n",
       "    .dataframe tbody tr th:only-of-type {\n",
       "        vertical-align: middle;\n",
       "    }\n",
       "\n",
       "    .dataframe tbody tr th {\n",
       "        vertical-align: top;\n",
       "    }\n",
       "\n",
       "    .dataframe thead th {\n",
       "        text-align: right;\n",
       "    }\n",
       "</style>\n",
       "<table border=\"1\" class=\"dataframe\">\n",
       "  <thead>\n",
       "    <tr style=\"text-align: right;\">\n",
       "      <th></th>\n",
       "      <th>checking_balance</th>\n",
       "      <th>months_loan_duration</th>\n",
       "      <th>credit_history</th>\n",
       "      <th>purpose</th>\n",
       "      <th>amount</th>\n",
       "      <th>savings_balance</th>\n",
       "      <th>employment_duration</th>\n",
       "      <th>percent_of_income</th>\n",
       "      <th>years_at_residence</th>\n",
       "      <th>age</th>\n",
       "      <th>other_credit</th>\n",
       "      <th>housing</th>\n",
       "      <th>existing_loans_count</th>\n",
       "      <th>job</th>\n",
       "      <th>dependents</th>\n",
       "      <th>phone</th>\n",
       "    </tr>\n",
       "  </thead>\n",
       "  <tbody>\n",
       "    <tr>\n",
       "      <th>0</th>\n",
       "      <td>1 - 200 SGD</td>\n",
       "      <td>48</td>\n",
       "      <td>good</td>\n",
       "      <td>furniture/appliances</td>\n",
       "      <td>5951</td>\n",
       "      <td>&lt; 100 SGD</td>\n",
       "      <td>1 - 4 years</td>\n",
       "      <td>2</td>\n",
       "      <td>2</td>\n",
       "      <td>22</td>\n",
       "      <td>none</td>\n",
       "      <td>own</td>\n",
       "      <td>1</td>\n",
       "      <td>skilled</td>\n",
       "      <td>1</td>\n",
       "      <td>no</td>\n",
       "    </tr>\n",
       "    <tr>\n",
       "      <th>1</th>\n",
       "      <td>unknown</td>\n",
       "      <td>36</td>\n",
       "      <td>good</td>\n",
       "      <td>education</td>\n",
       "      <td>9055</td>\n",
       "      <td>unknown</td>\n",
       "      <td>1 - 4 years</td>\n",
       "      <td>2</td>\n",
       "      <td>4</td>\n",
       "      <td>35</td>\n",
       "      <td>none</td>\n",
       "      <td>other</td>\n",
       "      <td>1</td>\n",
       "      <td>unskilled</td>\n",
       "      <td>2</td>\n",
       "      <td>yes</td>\n",
       "    </tr>\n",
       "    <tr>\n",
       "      <th>2</th>\n",
       "      <td>1 - 200 SGD</td>\n",
       "      <td>30</td>\n",
       "      <td>critical</td>\n",
       "      <td>car</td>\n",
       "      <td>5234</td>\n",
       "      <td>&lt; 100 SGD</td>\n",
       "      <td>unemployed</td>\n",
       "      <td>4</td>\n",
       "      <td>2</td>\n",
       "      <td>28</td>\n",
       "      <td>none</td>\n",
       "      <td>own</td>\n",
       "      <td>2</td>\n",
       "      <td>management</td>\n",
       "      <td>1</td>\n",
       "      <td>no</td>\n",
       "    </tr>\n",
       "    <tr>\n",
       "      <th>3</th>\n",
       "      <td>&lt; 0 SGD</td>\n",
       "      <td>24</td>\n",
       "      <td>critical</td>\n",
       "      <td>car</td>\n",
       "      <td>1199</td>\n",
       "      <td>&lt; 100 SGD</td>\n",
       "      <td>&gt; 7 years</td>\n",
       "      <td>4</td>\n",
       "      <td>4</td>\n",
       "      <td>60</td>\n",
       "      <td>none</td>\n",
       "      <td>own</td>\n",
       "      <td>2</td>\n",
       "      <td>unskilled</td>\n",
       "      <td>1</td>\n",
       "      <td>no</td>\n",
       "    </tr>\n",
       "    <tr>\n",
       "      <th>4</th>\n",
       "      <td>&lt; 0 SGD</td>\n",
       "      <td>30</td>\n",
       "      <td>perfect</td>\n",
       "      <td>business</td>\n",
       "      <td>8072</td>\n",
       "      <td>unknown</td>\n",
       "      <td>&lt; 1 year</td>\n",
       "      <td>2</td>\n",
       "      <td>3</td>\n",
       "      <td>25</td>\n",
       "      <td>bank</td>\n",
       "      <td>own</td>\n",
       "      <td>3</td>\n",
       "      <td>skilled</td>\n",
       "      <td>1</td>\n",
       "      <td>no</td>\n",
       "    </tr>\n",
       "  </tbody>\n",
       "</table>\n",
       "</div>"
      ],
      "text/plain": [
       "  checking_balance  months_loan_duration credit_history               purpose  \\\n",
       "0      1 - 200 SGD                    48           good  furniture/appliances   \n",
       "1          unknown                    36           good             education   \n",
       "2      1 - 200 SGD                    30       critical                   car   \n",
       "3          < 0 SGD                    24       critical                   car   \n",
       "4          < 0 SGD                    30        perfect              business   \n",
       "\n",
       "   amount savings_balance employment_duration  percent_of_income  \\\n",
       "0    5951       < 100 SGD         1 - 4 years                  2   \n",
       "1    9055         unknown         1 - 4 years                  2   \n",
       "2    5234       < 100 SGD          unemployed                  4   \n",
       "3    1199       < 100 SGD           > 7 years                  4   \n",
       "4    8072         unknown            < 1 year                  2   \n",
       "\n",
       "   years_at_residence  age other_credit housing  existing_loans_count  \\\n",
       "0                   2   22         none     own                     1   \n",
       "1                   4   35         none   other                     1   \n",
       "2                   2   28         none     own                     2   \n",
       "3                   4   60         none     own                     2   \n",
       "4                   3   25         bank     own                     3   \n",
       "\n",
       "          job  dependents phone  \n",
       "0     skilled           1    no  \n",
       "1   unskilled           2   yes  \n",
       "2  management           1    no  \n",
       "3   unskilled           1    no  \n",
       "4     skilled           1    no  "
      ]
     },
     "execution_count": 4,
     "metadata": {},
     "output_type": "execute_result"
    }
   ],
   "source": [
    "df.head(5)"
   ]
  },
  {
   "cell_type": "code",
   "execution_count": 5,
   "id": "64fbecfc-65b7-4e91-a606-b59ef2cb299a",
   "metadata": {
    "tags": []
   },
   "outputs": [
    {
     "name": "stdout",
     "output_type": "stream",
     "text": [
      "<class 'pandas.core.frame.DataFrame'>\n",
      "RangeIndex: 250 entries, 0 to 249\n",
      "Data columns (total 16 columns):\n",
      " #   Column                Non-Null Count  Dtype \n",
      "---  ------                --------------  ----- \n",
      " 0   checking_balance      250 non-null    object\n",
      " 1   months_loan_duration  250 non-null    int64 \n",
      " 2   credit_history        250 non-null    object\n",
      " 3   purpose               250 non-null    object\n",
      " 4   amount                250 non-null    int64 \n",
      " 5   savings_balance       250 non-null    object\n",
      " 6   employment_duration   250 non-null    object\n",
      " 7   percent_of_income     250 non-null    int64 \n",
      " 8   years_at_residence    250 non-null    int64 \n",
      " 9   age                   250 non-null    int64 \n",
      " 10  other_credit          250 non-null    object\n",
      " 11  housing               250 non-null    object\n",
      " 12  existing_loans_count  250 non-null    int64 \n",
      " 13  job                   250 non-null    object\n",
      " 14  dependents            250 non-null    int64 \n",
      " 15  phone                 250 non-null    object\n",
      "dtypes: int64(7), object(9)\n",
      "memory usage: 31.4+ KB\n"
     ]
    }
   ],
   "source": [
    "df.info()"
   ]
  },
  {
   "cell_type": "markdown",
   "id": "d99550d3-a4c7-4718-a173-999fa3249bfb",
   "metadata": {
    "jp-MarkdownHeadingCollapsed": true,
    "tags": []
   },
   "source": [
    "## Importing Libraries"
   ]
  },
  {
   "cell_type": "code",
   "execution_count": 22,
   "id": "0582c126-6a40-4a89-8977-13698774da17",
   "metadata": {
    "tags": []
   },
   "outputs": [],
   "source": [
    "import pandas as pd\n",
    "import numpy as np\n",
    "import seaborn as sns\n",
    "import matplotlib.pyplot as plt\n",
    "%matplotlib inline\n",
    "pd.set_option('display.max_columns',None)"
   ]
  },
  {
   "cell_type": "code",
   "execution_count": 23,
   "id": "b332af45-1eec-4b62-94b1-a49853bcb897",
   "metadata": {
    "tags": []
   },
   "outputs": [],
   "source": [
    "from sklearn.preprocessing import StandardScaler\n",
    "import joblib"
   ]
  },
  {
   "cell_type": "markdown",
   "id": "64a0670e-383e-408c-b28f-e6eb895c708b",
   "metadata": {
    "tags": []
   },
   "source": [
    "## Data preparation"
   ]
  },
  {
   "cell_type": "markdown",
   "id": "af6bf582-7bba-4992-8bc3-3389332f4114",
   "metadata": {
    "tags": []
   },
   "source": [
    "#### Merging car0 and car with same value car "
   ]
  },
  {
   "cell_type": "code",
   "execution_count": 8,
   "id": "8bf9d916-fc08-4ce6-9147-331e746aad44",
   "metadata": {
    "tags": []
   },
   "outputs": [],
   "source": [
    "df['purpose'] = np.where(df['purpose']=='car0','car',df['purpose'])"
   ]
  },
  {
   "cell_type": "markdown",
   "id": "d00c8d1a-83ba-4bff-80d5-41129f2bc87b",
   "metadata": {
    "jp-MarkdownHeadingCollapsed": true,
    "tags": []
   },
   "source": [
    "#### Replacing Binary Class with 0 and 1"
   ]
  },
  {
   "cell_type": "code",
   "execution_count": 9,
   "id": "dd425f65-3cc2-4877-a99b-b2beacb4d71f",
   "metadata": {
    "tags": []
   },
   "outputs": [],
   "source": [
    "df['phone'] = np.where(df['phone']=='no',0,df['phone'])\n",
    "df['phone'] = np.where(df['phone']=='yes',1,df['phone'])"
   ]
  },
  {
   "cell_type": "code",
   "execution_count": 11,
   "id": "99812645-77ae-4184-b2ab-0dc713b1286e",
   "metadata": {
    "tags": []
   },
   "outputs": [
    {
     "data": {
      "text/html": [
       "<div>\n",
       "<style scoped>\n",
       "    .dataframe tbody tr th:only-of-type {\n",
       "        vertical-align: middle;\n",
       "    }\n",
       "\n",
       "    .dataframe tbody tr th {\n",
       "        vertical-align: top;\n",
       "    }\n",
       "\n",
       "    .dataframe thead th {\n",
       "        text-align: right;\n",
       "    }\n",
       "</style>\n",
       "<table border=\"1\" class=\"dataframe\">\n",
       "  <thead>\n",
       "    <tr style=\"text-align: right;\">\n",
       "      <th></th>\n",
       "      <th>checking_balance</th>\n",
       "      <th>months_loan_duration</th>\n",
       "      <th>credit_history</th>\n",
       "      <th>purpose</th>\n",
       "      <th>amount</th>\n",
       "      <th>savings_balance</th>\n",
       "      <th>employment_duration</th>\n",
       "      <th>percent_of_income</th>\n",
       "      <th>years_at_residence</th>\n",
       "      <th>age</th>\n",
       "      <th>other_credit</th>\n",
       "      <th>housing</th>\n",
       "      <th>existing_loans_count</th>\n",
       "      <th>job</th>\n",
       "      <th>dependents</th>\n",
       "      <th>phone</th>\n",
       "    </tr>\n",
       "  </thead>\n",
       "  <tbody>\n",
       "    <tr>\n",
       "      <th>161</th>\n",
       "      <td>unknown</td>\n",
       "      <td>36</td>\n",
       "      <td>poor</td>\n",
       "      <td>business</td>\n",
       "      <td>7980</td>\n",
       "      <td>unknown</td>\n",
       "      <td>&lt; 1 year</td>\n",
       "      <td>4</td>\n",
       "      <td>4</td>\n",
       "      <td>27</td>\n",
       "      <td>none</td>\n",
       "      <td>rent</td>\n",
       "      <td>2</td>\n",
       "      <td>skilled</td>\n",
       "      <td>1</td>\n",
       "      <td>1</td>\n",
       "    </tr>\n",
       "    <tr>\n",
       "      <th>163</th>\n",
       "      <td>1 - 200 SGD</td>\n",
       "      <td>36</td>\n",
       "      <td>poor</td>\n",
       "      <td>car</td>\n",
       "      <td>8086</td>\n",
       "      <td>100 - 500 SGD</td>\n",
       "      <td>&gt; 7 years</td>\n",
       "      <td>2</td>\n",
       "      <td>4</td>\n",
       "      <td>42</td>\n",
       "      <td>none</td>\n",
       "      <td>own</td>\n",
       "      <td>4</td>\n",
       "      <td>management</td>\n",
       "      <td>1</td>\n",
       "      <td>1</td>\n",
       "    </tr>\n",
       "    <tr>\n",
       "      <th>41</th>\n",
       "      <td>unknown</td>\n",
       "      <td>6</td>\n",
       "      <td>good</td>\n",
       "      <td>furniture/appliances</td>\n",
       "      <td>2978</td>\n",
       "      <td>500 - 1000 SGD</td>\n",
       "      <td>1 - 4 years</td>\n",
       "      <td>1</td>\n",
       "      <td>2</td>\n",
       "      <td>32</td>\n",
       "      <td>none</td>\n",
       "      <td>own</td>\n",
       "      <td>1</td>\n",
       "      <td>skilled</td>\n",
       "      <td>1</td>\n",
       "      <td>1</td>\n",
       "    </tr>\n",
       "  </tbody>\n",
       "</table>\n",
       "</div>"
      ],
      "text/plain": [
       "    checking_balance  months_loan_duration credit_history  \\\n",
       "161          unknown                    36           poor   \n",
       "163      1 - 200 SGD                    36           poor   \n",
       "41           unknown                     6           good   \n",
       "\n",
       "                  purpose  amount savings_balance employment_duration  \\\n",
       "161              business    7980         unknown            < 1 year   \n",
       "163                   car    8086   100 - 500 SGD           > 7 years   \n",
       "41   furniture/appliances    2978  500 - 1000 SGD         1 - 4 years   \n",
       "\n",
       "     percent_of_income  years_at_residence  age other_credit housing  \\\n",
       "161                  4                   4   27         none    rent   \n",
       "163                  2                   4   42         none     own   \n",
       "41                   1                   2   32         none     own   \n",
       "\n",
       "     existing_loans_count         job  dependents phone  \n",
       "161                     2     skilled           1     1  \n",
       "163                     4  management           1     1  \n",
       "41                      1     skilled           1     1  "
      ]
     },
     "execution_count": 11,
     "metadata": {},
     "output_type": "execute_result"
    }
   ],
   "source": [
    "df.sample(3)"
   ]
  },
  {
   "cell_type": "code",
   "execution_count": 12,
   "id": "09efaf9f-2b4e-4652-8cba-114cafc5baf8",
   "metadata": {
    "tags": []
   },
   "outputs": [
    {
     "data": {
      "text/html": [
       "<div>\n",
       "<style scoped>\n",
       "    .dataframe tbody tr th:only-of-type {\n",
       "        vertical-align: middle;\n",
       "    }\n",
       "\n",
       "    .dataframe tbody tr th {\n",
       "        vertical-align: top;\n",
       "    }\n",
       "\n",
       "    .dataframe thead th {\n",
       "        text-align: right;\n",
       "    }\n",
       "</style>\n",
       "<table border=\"1\" class=\"dataframe\">\n",
       "  <thead>\n",
       "    <tr style=\"text-align: right;\">\n",
       "      <th></th>\n",
       "      <th>months_loan_duration</th>\n",
       "      <th>amount</th>\n",
       "      <th>percent_of_income</th>\n",
       "      <th>years_at_residence</th>\n",
       "      <th>age</th>\n",
       "      <th>existing_loans_count</th>\n",
       "      <th>dependents</th>\n",
       "    </tr>\n",
       "  </thead>\n",
       "  <tbody>\n",
       "    <tr>\n",
       "      <th>count</th>\n",
       "      <td>250.000000</td>\n",
       "      <td>250.000000</td>\n",
       "      <td>250.000000</td>\n",
       "      <td>250.000000</td>\n",
       "      <td>250.00000</td>\n",
       "      <td>250.000000</td>\n",
       "      <td>250.000000</td>\n",
       "    </tr>\n",
       "    <tr>\n",
       "      <th>mean</th>\n",
       "      <td>20.860000</td>\n",
       "      <td>3249.960000</td>\n",
       "      <td>3.040000</td>\n",
       "      <td>2.916000</td>\n",
       "      <td>35.24800</td>\n",
       "      <td>1.472000</td>\n",
       "      <td>1.140000</td>\n",
       "    </tr>\n",
       "    <tr>\n",
       "      <th>std</th>\n",
       "      <td>12.834144</td>\n",
       "      <td>2882.693788</td>\n",
       "      <td>1.111459</td>\n",
       "      <td>1.077771</td>\n",
       "      <td>11.10639</td>\n",
       "      <td>0.615411</td>\n",
       "      <td>0.347683</td>\n",
       "    </tr>\n",
       "    <tr>\n",
       "      <th>min</th>\n",
       "      <td>4.000000</td>\n",
       "      <td>250.000000</td>\n",
       "      <td>1.000000</td>\n",
       "      <td>1.000000</td>\n",
       "      <td>19.00000</td>\n",
       "      <td>1.000000</td>\n",
       "      <td>1.000000</td>\n",
       "    </tr>\n",
       "    <tr>\n",
       "      <th>25%</th>\n",
       "      <td>12.000000</td>\n",
       "      <td>1316.500000</td>\n",
       "      <td>2.000000</td>\n",
       "      <td>2.000000</td>\n",
       "      <td>27.00000</td>\n",
       "      <td>1.000000</td>\n",
       "      <td>1.000000</td>\n",
       "    </tr>\n",
       "    <tr>\n",
       "      <th>50%</th>\n",
       "      <td>18.000000</td>\n",
       "      <td>2119.500000</td>\n",
       "      <td>4.000000</td>\n",
       "      <td>3.000000</td>\n",
       "      <td>33.00000</td>\n",
       "      <td>1.000000</td>\n",
       "      <td>1.000000</td>\n",
       "    </tr>\n",
       "    <tr>\n",
       "      <th>75%</th>\n",
       "      <td>24.000000</td>\n",
       "      <td>3932.500000</td>\n",
       "      <td>4.000000</td>\n",
       "      <td>4.000000</td>\n",
       "      <td>41.00000</td>\n",
       "      <td>2.000000</td>\n",
       "      <td>1.000000</td>\n",
       "    </tr>\n",
       "    <tr>\n",
       "      <th>max</th>\n",
       "      <td>72.000000</td>\n",
       "      <td>15653.000000</td>\n",
       "      <td>4.000000</td>\n",
       "      <td>4.000000</td>\n",
       "      <td>68.00000</td>\n",
       "      <td>4.000000</td>\n",
       "      <td>2.000000</td>\n",
       "    </tr>\n",
       "  </tbody>\n",
       "</table>\n",
       "</div>"
      ],
      "text/plain": [
       "       months_loan_duration        amount  percent_of_income  \\\n",
       "count            250.000000    250.000000         250.000000   \n",
       "mean              20.860000   3249.960000           3.040000   \n",
       "std               12.834144   2882.693788           1.111459   \n",
       "min                4.000000    250.000000           1.000000   \n",
       "25%               12.000000   1316.500000           2.000000   \n",
       "50%               18.000000   2119.500000           4.000000   \n",
       "75%               24.000000   3932.500000           4.000000   \n",
       "max               72.000000  15653.000000           4.000000   \n",
       "\n",
       "       years_at_residence        age  existing_loans_count  dependents  \n",
       "count          250.000000  250.00000            250.000000  250.000000  \n",
       "mean             2.916000   35.24800              1.472000    1.140000  \n",
       "std              1.077771   11.10639              0.615411    0.347683  \n",
       "min              1.000000   19.00000              1.000000    1.000000  \n",
       "25%              2.000000   27.00000              1.000000    1.000000  \n",
       "50%              3.000000   33.00000              1.000000    1.000000  \n",
       "75%              4.000000   41.00000              2.000000    1.000000  \n",
       "max              4.000000   68.00000              4.000000    2.000000  "
      ]
     },
     "execution_count": 12,
     "metadata": {},
     "output_type": "execute_result"
    }
   ],
   "source": [
    "df.describe()"
   ]
  },
  {
   "cell_type": "markdown",
   "id": "0bd393b6-7085-4230-b882-a1835ffa44d5",
   "metadata": {
    "jp-MarkdownHeadingCollapsed": true,
    "tags": []
   },
   "source": [
    "### Checking if there is any extra value in our categorical feature"
   ]
  },
  {
   "cell_type": "code",
   "execution_count": 13,
   "id": "72a44490-aeef-4a7c-9c74-5ca2d24acbcc",
   "metadata": {
    "tags": []
   },
   "outputs": [
    {
     "name": "stdout",
     "output_type": "stream",
     "text": [
      "Feature:- checking_balance :\n",
      "['1 - 200 SGD' '< 0 SGD' '> 200 SGD' 'unknown']\n",
      "Feature:- credit_history :\n",
      "['critical' 'good' 'perfect' 'poor' 'very good']\n",
      "Feature:- purpose :\n",
      "['business' 'car' 'education' 'furniture/appliances' 'renovations']\n",
      "Feature:- savings_balance :\n",
      "['100 - 500 SGD' '500 - 1000 SGD' '< 100 SGD' '> 1000 SGD' 'unknown']\n",
      "Feature:- employment_duration :\n",
      "['1 - 4 years' '4 - 7 years' '< 1 year' '> 7 years' 'unemployed']\n",
      "Feature:- other_credit :\n",
      "['bank' 'none' 'store']\n",
      "Feature:- housing :\n",
      "['other' 'own' 'rent']\n",
      "Feature:- job :\n",
      "['management' 'skilled' 'unemployed' 'unskilled']\n",
      "Feature:- phone :\n",
      "[0 1]\n",
      "Number of Categorical features: 9\n"
     ]
    }
   ],
   "source": [
    "def unique_values(df,columns):\n",
    "    return np.unique(df[columns])\n",
    "count = 0\n",
    "for i in df.columns:\n",
    "    if df[i].dtypes == 'O':\n",
    "        print('Feature:-',i,':')\n",
    "        print(unique_values(df,i))\n",
    "        count +=1\n",
    "print('Number of Categorical features:',count)"
   ]
  },
  {
   "cell_type": "markdown",
   "id": "d61bc042-9897-4aaf-8920-ed66f3365081",
   "metadata": {
    "jp-MarkdownHeadingCollapsed": true,
    "tags": []
   },
   "source": [
    "### Creating Dummy Variable\n"
   ]
  },
  {
   "cell_type": "code",
   "execution_count": 15,
   "id": "59a59cc9-e5f6-4bab-b6fe-367e13f967b1",
   "metadata": {
    "tags": []
   },
   "outputs": [
    {
     "name": "stderr",
     "output_type": "stream",
     "text": [
      "C:\\Users\\DARIN\\AppData\\Local\\Temp\\ipykernel_15540\\3761676731.py:4: FutureWarning: In a future version, the Index constructor will not infer numeric dtypes when passed object-dtype sequences (matching Series behavior)\n",
      "  dummy = pd.get_dummies(df[vars],prefix=vars,drop_first=True)\n"
     ]
    }
   ],
   "source": [
    "catvars = [i for i in df.columns if df[i].dtype=='O'] \n",
    "df1 = df\n",
    "for vars in catvars:\n",
    "    dummy = pd.get_dummies(df[vars],prefix=vars,drop_first=True)\n",
    "    df1 = pd.concat([df1,dummy],axis =1)"
   ]
  },
  {
   "cell_type": "code",
   "execution_count": 16,
   "id": "46268305-cc75-4304-8f5f-55983b778183",
   "metadata": {
    "tags": []
   },
   "outputs": [
    {
     "data": {
      "text/plain": [
       "((250, 16), (250, 43), 9)"
      ]
     },
     "execution_count": 16,
     "metadata": {},
     "output_type": "execute_result"
    }
   ],
   "source": [
    "df.shape,df1.shape,len(catvars)"
   ]
  },
  {
   "cell_type": "code",
   "execution_count": 17,
   "id": "49a24995-9e62-41f7-928f-1d3ca3e03a1d",
   "metadata": {
    "tags": []
   },
   "outputs": [
    {
     "data": {
      "text/plain": [
       "(250, 34)"
      ]
     },
     "execution_count": 17,
     "metadata": {},
     "output_type": "execute_result"
    }
   ],
   "source": [
    "df1 = df1.drop(catvars,axis=1)\n",
    "df1.shape"
   ]
  },
  {
   "cell_type": "code",
   "execution_count": 18,
   "id": "59329d93-9254-4ac8-a754-25bd6071ba78",
   "metadata": {
    "tags": []
   },
   "outputs": [],
   "source": [
    "df1 = df1.reset_index(drop=True)"
   ]
  },
  {
   "cell_type": "markdown",
   "id": "63295e73-8118-4e37-b647-8a2ab0779dd5",
   "metadata": {
    "jp-MarkdownHeadingCollapsed": true,
    "tags": []
   },
   "source": [
    "### Scaling Features"
   ]
  },
  {
   "cell_type": "code",
   "execution_count": 20,
   "id": "fc247092-3d95-4bbb-8d66-0f5887d7d51f",
   "metadata": {
    "tags": []
   },
   "outputs": [],
   "source": [
    "sc = StandardScaler()\n",
    "sc_x = sc.fit_transform(df1)\n",
    "sc_x = pd.DataFrame(sc_x)"
   ]
  },
  {
   "cell_type": "markdown",
   "id": "cd7b0d2e-247d-4f37-8d9f-2aa1609ea761",
   "metadata": {
    "jp-MarkdownHeadingCollapsed": true,
    "tags": []
   },
   "source": [
    "## Final Dataset"
   ]
  },
  {
   "cell_type": "code",
   "execution_count": 25,
   "id": "b0aaefe5-ebf4-4857-ab80-06239c947270",
   "metadata": {
    "tags": []
   },
   "outputs": [
    {
     "data": {
      "text/html": [
       "<div>\n",
       "<style scoped>\n",
       "    .dataframe tbody tr th:only-of-type {\n",
       "        vertical-align: middle;\n",
       "    }\n",
       "\n",
       "    .dataframe tbody tr th {\n",
       "        vertical-align: top;\n",
       "    }\n",
       "\n",
       "    .dataframe thead th {\n",
       "        text-align: right;\n",
       "    }\n",
       "</style>\n",
       "<table border=\"1\" class=\"dataframe\">\n",
       "  <thead>\n",
       "    <tr style=\"text-align: right;\">\n",
       "      <th></th>\n",
       "      <th>0</th>\n",
       "      <th>1</th>\n",
       "      <th>2</th>\n",
       "      <th>3</th>\n",
       "      <th>4</th>\n",
       "      <th>5</th>\n",
       "      <th>6</th>\n",
       "      <th>7</th>\n",
       "      <th>8</th>\n",
       "      <th>9</th>\n",
       "      <th>10</th>\n",
       "      <th>11</th>\n",
       "      <th>12</th>\n",
       "      <th>13</th>\n",
       "      <th>14</th>\n",
       "      <th>15</th>\n",
       "      <th>16</th>\n",
       "      <th>17</th>\n",
       "      <th>18</th>\n",
       "      <th>19</th>\n",
       "      <th>20</th>\n",
       "      <th>21</th>\n",
       "      <th>22</th>\n",
       "      <th>23</th>\n",
       "      <th>24</th>\n",
       "      <th>25</th>\n",
       "      <th>26</th>\n",
       "      <th>27</th>\n",
       "      <th>28</th>\n",
       "      <th>29</th>\n",
       "      <th>30</th>\n",
       "      <th>31</th>\n",
       "      <th>32</th>\n",
       "      <th>33</th>\n",
       "    </tr>\n",
       "  </thead>\n",
       "  <tbody>\n",
       "    <tr>\n",
       "      <th>0</th>\n",
       "      <td>2.118914</td>\n",
       "      <td>0.938864</td>\n",
       "      <td>-0.937584</td>\n",
       "      <td>-0.851607</td>\n",
       "      <td>-1.195220</td>\n",
       "      <td>-0.768505</td>\n",
       "      <td>-0.403473</td>\n",
       "      <td>-0.629800</td>\n",
       "      <td>-0.234206</td>\n",
       "      <td>-0.789542</td>\n",
       "      <td>0.992032</td>\n",
       "      <td>-0.204124</td>\n",
       "      <td>-0.340693</td>\n",
       "      <td>-0.214535</td>\n",
       "      <td>-0.711354</td>\n",
       "      <td>-0.234206</td>\n",
       "      <td>1.057660</td>\n",
       "      <td>-0.169725</td>\n",
       "      <td>-0.261488</td>\n",
       "      <td>0.789542</td>\n",
       "      <td>-0.261488</td>\n",
       "      <td>-0.487467</td>\n",
       "      <td>-0.410152</td>\n",
       "      <td>-0.389966</td>\n",
       "      <td>-0.598912</td>\n",
       "      <td>-0.224544</td>\n",
       "      <td>0.481173</td>\n",
       "      <td>-0.224544</td>\n",
       "      <td>0.673415</td>\n",
       "      <td>-0.5</td>\n",
       "      <td>0.717741</td>\n",
       "      <td>-0.110208</td>\n",
       "      <td>-0.531085</td>\n",
       "      <td>-0.809709</td>\n",
       "    </tr>\n",
       "    <tr>\n",
       "      <th>1</th>\n",
       "      <td>1.182032</td>\n",
       "      <td>2.017795</td>\n",
       "      <td>-0.937584</td>\n",
       "      <td>1.007797</td>\n",
       "      <td>-0.022374</td>\n",
       "      <td>-0.768505</td>\n",
       "      <td>2.478479</td>\n",
       "      <td>-0.629800</td>\n",
       "      <td>-0.234206</td>\n",
       "      <td>1.266557</td>\n",
       "      <td>0.992032</td>\n",
       "      <td>-0.204124</td>\n",
       "      <td>-0.340693</td>\n",
       "      <td>-0.214535</td>\n",
       "      <td>-0.711354</td>\n",
       "      <td>4.269750</td>\n",
       "      <td>-0.945484</td>\n",
       "      <td>-0.169725</td>\n",
       "      <td>-0.261488</td>\n",
       "      <td>-1.266557</td>\n",
       "      <td>-0.261488</td>\n",
       "      <td>2.051422</td>\n",
       "      <td>-0.410152</td>\n",
       "      <td>-0.389966</td>\n",
       "      <td>-0.598912</td>\n",
       "      <td>-0.224544</td>\n",
       "      <td>0.481173</td>\n",
       "      <td>-0.224544</td>\n",
       "      <td>-1.484967</td>\n",
       "      <td>-0.5</td>\n",
       "      <td>-1.393261</td>\n",
       "      <td>-0.110208</td>\n",
       "      <td>1.882938</td>\n",
       "      <td>1.235011</td>\n",
       "    </tr>\n",
       "    <tr>\n",
       "      <th>2</th>\n",
       "      <td>0.713591</td>\n",
       "      <td>0.689640</td>\n",
       "      <td>0.865462</td>\n",
       "      <td>-0.851607</td>\n",
       "      <td>-0.653906</td>\n",
       "      <td>0.859684</td>\n",
       "      <td>-0.403473</td>\n",
       "      <td>-0.629800</td>\n",
       "      <td>-0.234206</td>\n",
       "      <td>-0.789542</td>\n",
       "      <td>-1.008032</td>\n",
       "      <td>-0.204124</td>\n",
       "      <td>-0.340693</td>\n",
       "      <td>-0.214535</td>\n",
       "      <td>1.405770</td>\n",
       "      <td>-0.234206</td>\n",
       "      <td>-0.945484</td>\n",
       "      <td>-0.169725</td>\n",
       "      <td>-0.261488</td>\n",
       "      <td>0.789542</td>\n",
       "      <td>-0.261488</td>\n",
       "      <td>-0.487467</td>\n",
       "      <td>-0.410152</td>\n",
       "      <td>-0.389966</td>\n",
       "      <td>-0.598912</td>\n",
       "      <td>4.453463</td>\n",
       "      <td>0.481173</td>\n",
       "      <td>-0.224544</td>\n",
       "      <td>0.673415</td>\n",
       "      <td>-0.5</td>\n",
       "      <td>-1.393261</td>\n",
       "      <td>-0.110208</td>\n",
       "      <td>-0.531085</td>\n",
       "      <td>-0.809709</td>\n",
       "    </tr>\n",
       "    <tr>\n",
       "      <th>3</th>\n",
       "      <td>0.245151</td>\n",
       "      <td>-0.712901</td>\n",
       "      <td>0.865462</td>\n",
       "      <td>1.007797</td>\n",
       "      <td>2.233098</td>\n",
       "      <td>0.859684</td>\n",
       "      <td>-0.403473</td>\n",
       "      <td>1.587806</td>\n",
       "      <td>-0.234206</td>\n",
       "      <td>-0.789542</td>\n",
       "      <td>-1.008032</td>\n",
       "      <td>-0.204124</td>\n",
       "      <td>-0.340693</td>\n",
       "      <td>-0.214535</td>\n",
       "      <td>1.405770</td>\n",
       "      <td>-0.234206</td>\n",
       "      <td>-0.945484</td>\n",
       "      <td>-0.169725</td>\n",
       "      <td>-0.261488</td>\n",
       "      <td>0.789542</td>\n",
       "      <td>-0.261488</td>\n",
       "      <td>-0.487467</td>\n",
       "      <td>-0.410152</td>\n",
       "      <td>-0.389966</td>\n",
       "      <td>1.669694</td>\n",
       "      <td>-0.224544</td>\n",
       "      <td>0.481173</td>\n",
       "      <td>-0.224544</td>\n",
       "      <td>0.673415</td>\n",
       "      <td>-0.5</td>\n",
       "      <td>-1.393261</td>\n",
       "      <td>-0.110208</td>\n",
       "      <td>1.882938</td>\n",
       "      <td>-0.809709</td>\n",
       "    </tr>\n",
       "    <tr>\n",
       "      <th>4</th>\n",
       "      <td>0.713591</td>\n",
       "      <td>1.676110</td>\n",
       "      <td>-0.937584</td>\n",
       "      <td>0.078095</td>\n",
       "      <td>-0.924563</td>\n",
       "      <td>2.487874</td>\n",
       "      <td>-0.403473</td>\n",
       "      <td>1.587806</td>\n",
       "      <td>-0.234206</td>\n",
       "      <td>-0.789542</td>\n",
       "      <td>-1.008032</td>\n",
       "      <td>4.898979</td>\n",
       "      <td>-0.340693</td>\n",
       "      <td>-0.214535</td>\n",
       "      <td>-0.711354</td>\n",
       "      <td>-0.234206</td>\n",
       "      <td>-0.945484</td>\n",
       "      <td>-0.169725</td>\n",
       "      <td>-0.261488</td>\n",
       "      <td>-1.266557</td>\n",
       "      <td>-0.261488</td>\n",
       "      <td>2.051422</td>\n",
       "      <td>-0.410152</td>\n",
       "      <td>2.564324</td>\n",
       "      <td>-0.598912</td>\n",
       "      <td>-0.224544</td>\n",
       "      <td>-2.078256</td>\n",
       "      <td>-0.224544</td>\n",
       "      <td>0.673415</td>\n",
       "      <td>-0.5</td>\n",
       "      <td>0.717741</td>\n",
       "      <td>-0.110208</td>\n",
       "      <td>-0.531085</td>\n",
       "      <td>-0.809709</td>\n",
       "    </tr>\n",
       "  </tbody>\n",
       "</table>\n",
       "</div>"
      ],
      "text/plain": [
       "         0         1         2         3         4         5         6   \\\n",
       "0  2.118914  0.938864 -0.937584 -0.851607 -1.195220 -0.768505 -0.403473   \n",
       "1  1.182032  2.017795 -0.937584  1.007797 -0.022374 -0.768505  2.478479   \n",
       "2  0.713591  0.689640  0.865462 -0.851607 -0.653906  0.859684 -0.403473   \n",
       "3  0.245151 -0.712901  0.865462  1.007797  2.233098  0.859684 -0.403473   \n",
       "4  0.713591  1.676110 -0.937584  0.078095 -0.924563  2.487874 -0.403473   \n",
       "\n",
       "         7         8         9         10        11        12        13  \\\n",
       "0 -0.629800 -0.234206 -0.789542  0.992032 -0.204124 -0.340693 -0.214535   \n",
       "1 -0.629800 -0.234206  1.266557  0.992032 -0.204124 -0.340693 -0.214535   \n",
       "2 -0.629800 -0.234206 -0.789542 -1.008032 -0.204124 -0.340693 -0.214535   \n",
       "3  1.587806 -0.234206 -0.789542 -1.008032 -0.204124 -0.340693 -0.214535   \n",
       "4  1.587806 -0.234206 -0.789542 -1.008032  4.898979 -0.340693 -0.214535   \n",
       "\n",
       "         14        15        16        17        18        19        20  \\\n",
       "0 -0.711354 -0.234206  1.057660 -0.169725 -0.261488  0.789542 -0.261488   \n",
       "1 -0.711354  4.269750 -0.945484 -0.169725 -0.261488 -1.266557 -0.261488   \n",
       "2  1.405770 -0.234206 -0.945484 -0.169725 -0.261488  0.789542 -0.261488   \n",
       "3  1.405770 -0.234206 -0.945484 -0.169725 -0.261488  0.789542 -0.261488   \n",
       "4 -0.711354 -0.234206 -0.945484 -0.169725 -0.261488 -1.266557 -0.261488   \n",
       "\n",
       "         21        22        23        24        25        26        27  \\\n",
       "0 -0.487467 -0.410152 -0.389966 -0.598912 -0.224544  0.481173 -0.224544   \n",
       "1  2.051422 -0.410152 -0.389966 -0.598912 -0.224544  0.481173 -0.224544   \n",
       "2 -0.487467 -0.410152 -0.389966 -0.598912  4.453463  0.481173 -0.224544   \n",
       "3 -0.487467 -0.410152 -0.389966  1.669694 -0.224544  0.481173 -0.224544   \n",
       "4  2.051422 -0.410152  2.564324 -0.598912 -0.224544 -2.078256 -0.224544   \n",
       "\n",
       "         28   29        30        31        32        33  \n",
       "0  0.673415 -0.5  0.717741 -0.110208 -0.531085 -0.809709  \n",
       "1 -1.484967 -0.5 -1.393261 -0.110208  1.882938  1.235011  \n",
       "2  0.673415 -0.5 -1.393261 -0.110208 -0.531085 -0.809709  \n",
       "3  0.673415 -0.5 -1.393261 -0.110208  1.882938 -0.809709  \n",
       "4  0.673415 -0.5  0.717741 -0.110208 -0.531085 -0.809709  "
      ]
     },
     "execution_count": 25,
     "metadata": {},
     "output_type": "execute_result"
    }
   ],
   "source": [
    "sc_x.head()"
   ]
  },
  {
   "cell_type": "markdown",
   "id": "6969e195-75ac-49c8-ad09-182385f1a1be",
   "metadata": {},
   "source": [
    "## Importing model"
   ]
  },
  {
   "cell_type": "code",
   "execution_count": 26,
   "id": "c10ef6ba-d0f9-4102-8aa7-3e7954682399",
   "metadata": {
    "tags": []
   },
   "outputs": [],
   "source": [
    "model = joblib.load('final_model.pkl')"
   ]
  },
  {
   "cell_type": "markdown",
   "id": "a7912ead-903a-4a9e-922a-ba2eec08bf96",
   "metadata": {
    "tags": []
   },
   "source": [
    "## Prediction"
   ]
  },
  {
   "cell_type": "code",
   "execution_count": 28,
   "id": "4ec858a0-36a1-4b4a-89ca-c8a983f13edf",
   "metadata": {
    "tags": []
   },
   "outputs": [],
   "source": [
    "prediction = model.predict(sc_x)"
   ]
  },
  {
   "cell_type": "code",
   "execution_count": 30,
   "id": "dbbf1733-f68f-45b5-b0cb-4f506c7ef203",
   "metadata": {
    "tags": []
   },
   "outputs": [
    {
     "data": {
      "text/plain": [
       "array([1, 0, 1, 1, 1, 1, 1, 1, 0, 1, 1, 0, 0, 0, 1, 1, 0, 0, 1, 1, 0, 1,\n",
       "       1, 1, 1, 1, 1, 1, 1, 1, 1, 1, 1, 0, 1, 1, 1, 1, 1, 1, 1, 0, 1, 1,\n",
       "       1, 1, 1, 1, 0, 1, 1, 1, 0, 1, 1, 1, 1, 1, 1, 1, 0, 0, 1, 1, 1, 1,\n",
       "       1, 1, 1, 1, 0, 1, 1, 1, 0, 1, 0, 1, 1, 1, 1, 1, 1, 1, 1, 1, 1, 1,\n",
       "       1, 1, 1, 0, 1, 1, 1, 1, 1, 0, 1, 1, 1, 1, 1, 0, 1, 1, 1, 1, 1, 0,\n",
       "       1, 0, 1, 0, 1, 1, 1, 0, 0, 1, 1, 1, 1, 1, 1, 1, 0, 0, 1, 1, 1, 1,\n",
       "       1, 0, 1, 1, 1, 0, 1, 1, 1, 1, 1, 1, 0, 1, 1, 1, 1, 1, 1, 1, 1, 1,\n",
       "       1, 1, 0, 0, 1, 1, 1, 1, 1, 1, 0, 1, 1, 1, 0, 1, 0, 0, 1, 1, 1, 1,\n",
       "       0, 1, 1, 0, 1, 0, 1, 0, 1, 1, 1, 0, 1, 1, 1, 1, 0, 0, 1, 0, 1, 1,\n",
       "       1, 1, 1, 1, 1, 1, 0, 1, 1, 1, 1, 0, 1, 1, 1, 1, 1, 1, 1, 1, 0, 1,\n",
       "       0, 1, 1, 1, 0, 0, 1, 1, 0, 1, 0, 1, 1, 0, 1, 0, 1, 1, 1, 1, 1, 1,\n",
       "       1, 1, 1, 1, 1, 1, 1, 0])"
      ]
     },
     "execution_count": 30,
     "metadata": {},
     "output_type": "execute_result"
    }
   ],
   "source": [
    "prediction"
   ]
  },
  {
   "cell_type": "code",
   "execution_count": 32,
   "id": "f45c672c-55fc-456a-a5af-ebd74bbe896c",
   "metadata": {
    "tags": []
   },
   "outputs": [
    {
     "data": {
      "text/plain": [
       "1    195\n",
       "0     55\n",
       "dtype: int64"
      ]
     },
     "execution_count": 32,
     "metadata": {},
     "output_type": "execute_result"
    }
   ],
   "source": [
    "pd.DataFrame(prediction).value_counts()"
   ]
  },
  {
   "cell_type": "markdown",
   "id": "1502cb76-ef97-458f-a493-62668dfb8dbd",
   "metadata": {},
   "source": [
    "## Saving the predicted result in csv file"
   ]
  },
  {
   "cell_type": "code",
   "execution_count": 37,
   "id": "83b7324b-0bf6-48a9-95cb-93b2f6f93a8b",
   "metadata": {
    "tags": []
   },
   "outputs": [],
   "source": [
    "predicted = pd.concat([df,pd.DataFrame(prediction)],axis=1)"
   ]
  },
  {
   "cell_type": "code",
   "execution_count": 39,
   "id": "d9bf8238-6c66-447a-849f-f35b7f30defc",
   "metadata": {
    "tags": []
   },
   "outputs": [],
   "source": [
    "predicted.to_csv('predicted_result.csv')"
   ]
  }
 ],
 "metadata": {
  "kernelspec": {
   "display_name": "Python 3 (ipykernel)",
   "language": "python",
   "name": "python3"
  },
  "language_info": {
   "codemirror_mode": {
    "name": "ipython",
    "version": 3
   },
   "file_extension": ".py",
   "mimetype": "text/x-python",
   "name": "python",
   "nbconvert_exporter": "python",
   "pygments_lexer": "ipython3",
   "version": "3.11.4"
  }
 },
 "nbformat": 4,
 "nbformat_minor": 5
}
